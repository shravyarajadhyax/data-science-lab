{
  "metadata": {
    "kernelspec": {
      "name": "python",
      "display_name": "Python (Pyodide)",
      "language": "python"
    },
    "language_info": {
      "codemirror_mode": {
        "name": "python",
        "version": 3
      },
      "file_extension": ".py",
      "mimetype": "text/x-python",
      "name": "python",
      "nbconvert_exporter": "python",
      "pygments_lexer": "ipython3",
      "version": "3.8"
    }
  },
  "nbformat_minor": 5,
  "nbformat": 4,
  "cells": [
    {
      "id": "dcb31b23-68da-4743-87a8-c609f0afb7a8",
      "cell_type": "markdown",
      "source": "# Data Science Tools and Ecosystem",
      "metadata": {}
    },
    {
      "id": "f18e9492-87b8-4f88-a6d0-bcd5fc4d742a",
      "cell_type": "markdown",
      "source": "In this notebook, Data Science Tools and Ecosystem are summarized.",
      "metadata": {}
    },
    {
      "id": "54525eb2-87f8-49f3-afa8-3e0ea9aa76e1",
      "cell_type": "markdown",
      "source": "Some of the popular languages that Data Scientists use are:\n+ Python\n+ R\n+ Julia",
      "metadata": {}
    },
    {
      "id": "30a2d863-2bee-4716-8daf-723d9ffed282",
      "cell_type": "markdown",
      "source": "Some of the commonly used libraries used by Data Scientists include:\n1. Pandas\n2. Numpy\n3. Scikit-learn",
      "metadata": {}
    },
    {
      "id": "85bcaf3e-62fa-431a-8535-2a036985feea",
      "cell_type": "markdown",
      "source": "|---|\n|Data Science Tools|\n|---|\n| Jupyter Notebooks |\n| RStudio |\n| IBM Watson Studio |",
      "metadata": {}
    },
    {
      "id": "0a55f2a1-dc4e-4c36-bf07-ed92063b9f8e",
      "cell_type": "markdown",
      "source": "### Below are a few examples of evaluating arithmetic expressions in Python.",
      "metadata": {}
    },
    {
      "id": "d996080f-a088-40c4-b652-fdce4ce29818",
      "cell_type": "code",
      "source": " # This a simple arithmetic expression to mutiply then add integers\n(3*4)+5",
      "metadata": {
        "trusted": true
      },
      "outputs": [
        {
          "execution_count": 1,
          "output_type": "execute_result",
          "data": {
            "text/plain": "17"
          },
          "metadata": {}
        }
      ],
      "execution_count": 1
    },
    {
      "id": "3d30fc25-624e-47c4-9599-09108bd5d478",
      "cell_type": "code",
      "source": "# This will convert 200 minutes to hours by diving by 60\n200/60",
      "metadata": {
        "trusted": true
      },
      "outputs": [
        {
          "execution_count": 2,
          "output_type": "execute_result",
          "data": {
            "text/plain": "3.3333333333333335"
          },
          "metadata": {}
        }
      ],
      "execution_count": 2
    },
    {
      "id": "21ca3a52-20ea-4e74-87ec-583634c00fd0",
      "cell_type": "markdown",
      "source": "**Objectives:**\n+ List popular languages for Data Science\n+ List popular environments for Data Science\n+ Jupyter Notebooks\n+ RStudio",
      "metadata": {}
    },
    {
      "id": "69a9225d-5e3d-45b8-9f22-612559068f81",
      "cell_type": "markdown",
      "source": "## Author\nShravya Rajadhyax",
      "metadata": {}
    },
    {
      "id": "1e7aa293-f963-4e45-8380-283280163cd0",
      "cell_type": "code",
      "source": "",
      "metadata": {
        "trusted": true
      },
      "outputs": [],
      "execution_count": null
    }
  ]
}